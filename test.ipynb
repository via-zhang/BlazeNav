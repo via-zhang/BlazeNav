{
 "cells": [
  {
   "cell_type": "code",
   "execution_count": 1,
   "id": "a0ce816b-2ddf-4d44-b4bb-aab509d7bc44",
   "metadata": {},
   "outputs": [
    {
     "name": "stdout",
     "output_type": "stream",
     "text": [
      "Requirement already satisfied: geopandas in c:\\programdata\\anaconda3\\lib\\site-packages (1.0.1)\n",
      "Requirement already satisfied: numpy>=1.22 in c:\\programdata\\anaconda3\\lib\\site-packages (from geopandas) (1.26.4)\n",
      "Requirement already satisfied: pyogrio>=0.7.2 in c:\\programdata\\anaconda3\\lib\\site-packages (from geopandas) (0.10.0)\n",
      "Requirement already satisfied: packaging in c:\\programdata\\anaconda3\\lib\\site-packages (from geopandas) (23.1)\n",
      "Requirement already satisfied: pandas>=1.4.0 in c:\\programdata\\anaconda3\\lib\\site-packages (from geopandas) (2.1.4)\n",
      "Requirement already satisfied: pyproj>=3.3.0 in c:\\programdata\\anaconda3\\lib\\site-packages (from geopandas) (3.7.1)\n",
      "Requirement already satisfied: shapely>=2.0.0 in c:\\programdata\\anaconda3\\lib\\site-packages (from geopandas) (2.1.0)\n",
      "Requirement already satisfied: python-dateutil>=2.8.2 in c:\\programdata\\anaconda3\\lib\\site-packages (from pandas>=1.4.0->geopandas) (2.8.2)\n",
      "Requirement already satisfied: pytz>=2020.1 in c:\\programdata\\anaconda3\\lib\\site-packages (from pandas>=1.4.0->geopandas) (2023.3.post1)\n",
      "Requirement already satisfied: tzdata>=2022.1 in c:\\programdata\\anaconda3\\lib\\site-packages (from pandas>=1.4.0->geopandas) (2023.3)\n",
      "Requirement already satisfied: certifi in c:\\programdata\\anaconda3\\lib\\site-packages (from pyogrio>=0.7.2->geopandas) (2024.2.2)\n",
      "Requirement already satisfied: six>=1.5 in c:\\programdata\\anaconda3\\lib\\site-packages (from python-dateutil>=2.8.2->pandas>=1.4.0->geopandas) (1.16.0)\n",
      "Note: you may need to restart the kernel to use updated packages.\n"
     ]
    }
   ],
   "source": [
    "pip install geopandas"
   ]
  },
  {
   "cell_type": "code",
   "execution_count": 3,
   "id": "8c5103c7-ae9c-45e8-8484-00e7c41075ae",
   "metadata": {},
   "outputs": [],
   "source": [
    "import geopandas as gpd\n",
    "import networkx as nx\n",
    "import matplotlib.pyplot as plt\n",
    "import numpy as np"
   ]
  },
  {
   "cell_type": "code",
   "execution_count": 4,
   "id": "4d5392e9-9445-468b-8790-cf292debeffc",
   "metadata": {},
   "outputs": [],
   "source": [
    "test = nx.DiGraph()"
   ]
  },
  {
   "cell_type": "code",
   "execution_count": 5,
   "id": "1457b409-8240-4d44-b489-59f3470049ba",
   "metadata": {},
   "outputs": [],
   "source": [
    "# https://networkx.org/documentation/stable/reference/classes/generated/networkx.DiGraph.add_node.html#networkx.DiGraph.add_node\n",
    "test.add_node(0, dist = np.inf, pred = None)\n",
    "test.add_node(1, dist = np.inf, pred = None)\n",
    "test.add_node(2, dist = np.inf, pred = None)\n",
    "test.add_node(3, dist = np.inf, pred = None)\n",
    "test.add_node(4, dist = np.inf, pred = None)"
   ]
  },
  {
   "cell_type": "code",
   "execution_count": 6,
   "id": "a617ee6f-f365-491a-9f4d-f6c2cd5704ba",
   "metadata": {},
   "outputs": [],
   "source": [
    "test.add_edge(0, 1, weight = 5)\n",
    "test.add_edge(1, 3, weight = 2)\n",
    "test.add_edge(4, 3, weight = -1)\n",
    "test.add_edge(2, 4, weight = 1)\n",
    "test.add_edge(1, 2, weight = 1)"
   ]
  },
  {
   "cell_type": "code",
   "execution_count": 7,
   "id": "4ef13963-5aa5-4a15-a236-b8ad913859bc",
   "metadata": {},
   "outputs": [
    {
     "data": {
      "image/png": "[encoded data removed]",
      "text/plain": [
       "<Figure size 640x480 with 1 Axes>"
      ]
     },
     "metadata": {},
     "output_type": "display_data"
    }
   ],
   "source": [
    "# https://hh2022f.amason.sites.carleton.edu/week-9-project-preparation/how-to-create-network-graphs-in-python/index.html\n",
    "nx.draw(test, with_labels = True)"
   ]
  },
  {
   "cell_type": "code",
   "execution_count": 8,
   "id": "2d3eb55c-58ef-427c-8def-b9864804b561",
   "metadata": {},
   "outputs": [
    {
     "data": {
      "text/plain": [
       "{'dist': inf, 'pred': None}"
      ]
     },
     "execution_count": 8,
     "metadata": {},
     "output_type": "execute_result"
    }
   ],
   "source": [
    "test.nodes[0]"
   ]
  },
  {
   "cell_type": "code",
   "execution_count": 9,
   "id": "82479fc3-5263-4938-aabf-d7a020d9a9a5",
   "metadata": {},
   "outputs": [
    {
     "data": {
      "text/plain": [
       "inf"
      ]
     },
     "execution_count": 9,
     "metadata": {},
     "output_type": "execute_result"
    }
   ],
   "source": [
    "test.nodes[0]['dist']"
   ]
  },
  {
   "cell_type": "code",
   "execution_count": 10,
   "id": "79c6950f-2781-48c4-ab0c-fa06ce4b1d1b",
   "metadata": {},
   "outputs": [
    {
     "data": {
      "text/plain": [
       "{'dist': inf, 'pred': None}"
      ]
     },
     "execution_count": 10,
     "metadata": {},
     "output_type": "execute_result"
    }
   ],
   "source": [
    "test.nodes[1]"
   ]
  },
  {
   "cell_type": "code",
   "execution_count": 11,
   "id": "8d38c04a-9f96-4e49-9e89-7ab70b215cb2",
   "metadata": {},
   "outputs": [
    {
     "data": {
      "text/plain": [
       "AdjacencyView({0: {1: {'weight': 5}}, 1: {3: {'weight': 2}, 2: {'weight': 1}}, 2: {4: {'weight': 1}}, 3: {}, 4: {3: {'weight': -1}}})"
      ]
     },
     "execution_count": 11,
     "metadata": {},
     "output_type": "execute_result"
    }
   ],
   "source": [
    "test.adj"
   ]
  },
  {
   "cell_type": "code",
   "execution_count": 12,
   "id": "f22d7d4c-949f-4ad9-8c9e-f6e1bdd82bb0",
   "metadata": {},
   "outputs": [],
   "source": [
    "neighbors = test.__getitem__(1)"
   ]
  },
  {
   "cell_type": "code",
   "execution_count": 13,
   "id": "daea18d3-eaa8-46e5-9f22-61abd834eeb1",
   "metadata": {
    "scrolled": true
   },
   "outputs": [
    {
     "data": {
      "text/plain": [
       "AtlasView({3: {'weight': 2}, 2: {'weight': 1}})"
      ]
     },
     "execution_count": 13,
     "metadata": {},
     "output_type": "execute_result"
    }
   ],
   "source": [
    "neighbors"
   ]
  },
  {
   "cell_type": "code",
   "execution_count": 14,
   "id": "0e636931-ceb9-49f9-8e3a-9c37f145b0fd",
   "metadata": {},
   "outputs": [
    {
     "name": "stdout",
     "output_type": "stream",
     "text": [
      "Node: 3 and weight: 2\n",
      "Node: 2 and weight: 1\n"
     ]
    }
   ],
   "source": [
    "for node in neighbors:\n",
    "    print(f\"Node: {node} and weight: {neighbors[node]['weight']}\")"
   ]
  },
  {
   "cell_type": "code",
   "execution_count": 15,
   "id": "7c1112e4-e9e0-46cc-9fe7-0fe04aafccf2",
   "metadata": {},
   "outputs": [
    {
     "name": "stdout",
     "output_type": "stream",
     "text": [
      "3\n",
      "2\n"
     ]
    }
   ],
   "source": [
    "for i in neighbors.keys():\n",
    "    print(i)"
   ]
  },
  {
   "cell_type": "code",
   "execution_count": 125,
   "id": "ec5cdb81-9e86-4152-ba13-c6e866b877e1",
   "metadata": {},
   "outputs": [],
   "source": [
    "# for vertex in test.nodes:\n",
    "#     print(f\"from: {vertex}, d[u]: {test.nodes[vertex]['dist']}\")\n",
    "#     neighbors = test.__getitem__(vertex)\n",
    "#     for i in neighbors:\n",
    "#         print(f\"   to: {i}, weight: {neighbors[i]['weight']}, d[v]: {test.nodes[i]['dist']}\")"
   ]
  },
  {
   "cell_type": "code",
   "execution_count": 26,
   "id": "c9bc09a3-2ce6-44a9-b4c6-67644ef535c2",
   "metadata": {},
   "outputs": [],
   "source": [
    "def bellmanford(Graph, source):\n",
    "    Graph.nodes[source]['dist'] = 0 # will set as long lat of Gainesville Firestation for final draft\n",
    "    for i in range(len(list(Graph.nodes))):\n",
    "        for from_vertex in Graph.nodes:\n",
    "            neighbors = Graph.__getitem__(from_vertex)\n",
    "            for to_vertex in neighbors:\n",
    "                du = Graph.nodes[from_vertex]['dist']\n",
    "                wt = neighbors[to_vertex]['weight']\n",
    "                dv = Graph.nodes[to_vertex]['dist']\n",
    "                if du + wt < dv:\n",
    "                    Graph.nodes[to_vertex]['dist'] = du + wt\n",
    "                    Graph.nodes[to_vertex]['pred'] = from_vertex\n",
    "    return Graph\n",
    "    '''\n",
    "    repeat V - 1 times\n",
    "    for each edge(from u, to v) with weight w in edges do:\n",
    "        if dist[u] + w < dist[v] then\n",
    "            dist[v] = dist[u] + w\n",
    "            pred[v] = u\n",
    "    '''"
   ]
  },
  {
   "cell_type": "code",
   "execution_count": 27,
   "id": "d7f5b50c-081d-4536-bf7d-d9a5c11109b0",
   "metadata": {},
   "outputs": [],
   "source": [
    "# test graph built of example from here: https://www.geeksforgeeks.org/bellman-ford-algorithm-dp-23/\n",
    "result = bellmanford(test, source = 0)"
   ]
  },
  {
   "cell_type": "code",
   "execution_count": 28,
   "id": "bba983c0-e568-49c4-ae5a-12057d65fc09",
   "metadata": {},
   "outputs": [
    {
     "name": "stdout",
     "output_type": "stream",
     "text": [
      "from: 0\n",
      "   to: 1, dist: 5, pred: 0\n",
      "from: 0\n",
      "   to: 2, dist: 6, pred: 1\n",
      "from: 0\n",
      "   to: 3, dist: 6, pred: 4\n",
      "from: 0\n",
      "   to: 4, dist: 7, pred: 2\n"
     ]
    }
   ],
   "source": [
    "# all distances and predecessors correct except for edge(0, 3)\n",
    "for vertex in result.nodes:\n",
    "    if vertex == 0:\n",
    "        continue\n",
    "    print(f\"from: 0\")\n",
    "    print(f\"   to: {vertex}, dist: {result.nodes[vertex]['dist']}, pred: {result.nodes[vertex]['pred']}\")"
   ]
  },
  {
   "cell_type": "code",
   "execution_count": 29,
   "id": "33a38115-f3f8-44e7-9827-99d4b9cab72c",
   "metadata": {},
   "outputs": [],
   "source": [
    "def findpath(node, Graph):\n",
    "    source = 0\n",
    "    path = {} # key = long lat of predecessor, value = distance\n",
    "    if Graph.nodes[node]['pred'] == source:\n",
    "        print(f\"node: {node}\")\n",
    "        path[node] = Graph.nodes[node]['dist']\n",
    "        print(f\"dist: {Graph.nodes[node]['dist']}\")\n",
    "        return path\n",
    "    else:\n",
    "        pred = Graph.nodes[node]['pred']\n",
    "        print(f\"pred: {pred}\")\n",
    "        path[pred] = Graph.nodes[pred]['dist']\n",
    "        print(f\"pred's dist: {Graph.nodes[pred]['dist']}\") \n",
    "        findpath(pred, Graph)"
   ]
  },
  {
   "cell_type": "code",
   "execution_count": 30,
   "id": "ca845909-5f7f-4c7d-87b0-044b60b7f41d",
   "metadata": {},
   "outputs": [
    {
     "name": "stdout",
     "output_type": "stream",
     "text": [
      "pred: 2\n",
      "pred's dist: 6\n",
      "pred: 1\n",
      "pred's dist: 5\n",
      "node: 1\n",
      "dist: 5\n"
     ]
    }
   ],
   "source": [
    "test_path = findpath(4, result)"
   ]
  },
  {
   "cell_type": "code",
   "execution_count": 31,
   "id": "3d6c9e8e-52f6-40aa-a0f1-997995cb6267",
   "metadata": {},
   "outputs": [
    {
     "data": {
      "text/plain": [
       "NoneType"
      ]
     },
     "execution_count": 31,
     "metadata": {},
     "output_type": "execute_result"
    }
   ],
   "source": [
    "type(test_path)"
   ]
  }
 ],
 "metadata": {
  "kernelspec": {
   "display_name": "Python 3 (ipykernel)",
   "language": "python",
   "name": "python3"
  },
  "language_info": {
   "codemirror_mode": {
    "name": "ipython",
    "version": 3
   },
   "file_extension": ".py",
   "mimetype": "text/x-python",
   "name": "python",
   "nbconvert_exporter": "python",
   "pygments_lexer": "ipython3",
   "version": "3.12.7"
  }
 },
 "nbformat": 4,
 "nbformat_minor": 5
}
