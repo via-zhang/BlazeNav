{
 "cells": [
  {
   "cell_type": "code",
   "execution_count": 1,
   "id": "cc108b43-a81d-4906-82f4-473f7c9cced0",
   "metadata": {},
   "outputs": [],
   "source": [
    "import geopandas as gpd\n",
    "import matplotlib.pyplot as plt\n",
    "import momepy\n",
    "import networkx as nx\n",
    "import numpy as np\n",
    "from contextily import add_basemap\n",
    "from libpysal import weights\n",
    "import time\n",
    "import shapely\n",
    "import heapq"
   ]
  },
  {
   "cell_type": "code",
   "execution_count": 2,
   "id": "d32f1777-5258-498e-8951-67180fbdd941",
   "metadata": {},
   "outputs": [],
   "source": [
    "roads = gpd.read_file('road_vertices_3857_subset.zip')[['LengthM', 'geometry', 'FULLNAME', 'MTFCC', 'StartX', 'StartY']]\n",
    "roads = roads[(roads['MTFCC'] == 'S1100') | (roads['MTFCC'] == 'S1200')]"
   ]
  },
  {
   "cell_type": "code",
   "execution_count": 18,
   "id": "713c45bb-a163-435e-8471-9c029ffd0271",
   "metadata": {},
   "outputs": [],
   "source": [
    "def bellmanford(Graph, source = 963):\n",
    "    # 963 = index of Gainesville Fire Station\n",
    "    list(Graph.nodes(data=True))[source][1]['dist'] = 0\n",
    "    for i in range(len(list(G.nodes))):\n",
    "      for from_vertex in Graph.nodes:\n",
    "          neighbors = Graph.__getitem__(from_vertex)\n",
    "          for to_vertex in neighbors:\n",
    "              du = Graph.nodes[from_vertex]['dist']\n",
    "              wt = neighbors[to_vertex][0]['LengthM']\n",
    "              dv = Graph.nodes[to_vertex]['dist']\n",
    "              if du + wt < dv:\n",
    "                  Graph.nodes[to_vertex]['dist'] = du + wt\n",
    "                  Graph.nodes[to_vertex]['pred'] = from_vertex\n",
    "    return Graph\n",
    "    \n",
    "\n",
    "# based off of pseudocode from discussion slides\n",
    "# repeat V - 1 times\n",
    "# for each edge(from u, to v) with weight w in edges do:\n",
    "#     if dist[u] + w < dist[v] then\n",
    "#         dist[v] = dist[u] + w\n",
    "#         pred[v] = u"
   ]
  },
  {
   "cell_type": "code",
   "execution_count": 10,
   "id": "cc9cf1a3-b0ef-4d9a-970a-d348dd8e89a5",
   "metadata": {},
   "outputs": [],
   "source": [
    "def dijkstra(Graph, start=963):\n",
    "    # Initialize everything\n",
    "    # Start is the index of Gainesville's Fire Station\n",
    "    list(Graph.nodes(data=True))[start][1]['dist'] = 0\n",
    "    # Initialize priority queue\n",
    "    pq = [(0, list(Graph.nodes)[start])]\n",
    "    visitedNodes = set()\n",
    "\n",
    "    while pq:\n",
    "        current_distance, current = heapq.heappop(pq)\n",
    "        if current in visitedNodes:\n",
    "            continue\n",
    "        visitedNodes.add(current)\n",
    "        currentNeighbors = Graph.__getitem__(current)\n",
    "        for neighboringNodes in currentNeighbors:\n",
    "            weight = currentNeighbors[neighboringNodes][0]['LengthM']\n",
    "            distance = current_distance + weight\n",
    "\n",
    "            # If distance is less than the current distance, update\n",
    "            if distance < Graph.nodes[neighboringNodes]['dist']:\n",
    "                Graph.nodes[neighboringNodes]['dist'] = distance\n",
    "                Graph.nodes[neighboringNodes]['pred'] = current\n",
    "                heapq.heappush(pq, (distance, neighboringNodes))\n",
    "    return Graph"
   ]
  },
  {
   "cell_type": "code",
   "execution_count": 13,
   "id": "5b38f7f2-92be-4fdb-8cfb-f18a42ac8256",
   "metadata": {
    "scrolled": true
   },
   "outputs": [
    {
     "name": "stdout",
     "output_type": "stream",
     "text": [
      "Welcome to BlazeNav! We will help you determine the closest path from the Gainesville Fire Station to a fire you've just located.\n",
      "-------------------------------------------------------------\n",
      "Please enter the coordinates of your fire in decimal degrees.\n"
     ]
    },
    {
     "name": "stdin",
     "output_type": "stream",
     "text": [
      "Enter longtiude of fire:  -82.3111426\n",
      "Enter latitude of fire:  29.6520652\n"
     ]
    },
    {
     "name": "stdout",
     "output_type": "stream",
     "text": [
      "-------------------------------------------------------------\n",
      "Please select which algorithm you wish to run (enter 1 or 2).\n",
      "1. Bellman-Ford algorithm\n",
      "2. Dijkstra's algorithm\n"
     ]
    },
    {
     "name": "stdin",
     "output_type": "stream",
     "text": [
      " 1\n"
     ]
    },
    {
     "name": "stdout",
     "output_type": "stream",
     "text": [
      "We have identified the location. BlazeNav is now searching for the fastest route from the Gainesville Fire Station #1 to the road nearest to the fire you inputted.\n"
     ]
    }
   ],
   "source": [
    "# Example: lon = -82.3111426 lat = 29.6520652\n",
    "print(\"Welcome to BlazeNav! We will help you determine the closest path from the Gainesville Fire Station to a fire you've just located.\")\n",
    "print(\"-------------------------------------------------------------\")\n",
    "print(\"Please enter the coordinates of your fire in decimal degrees.\")\n",
    "fire_lon = input(\"Enter longtiude of fire: \")\n",
    "fire_lat = input(\"Enter latitude of fire: \")\n",
    "print(\"-------------------------------------------------------------\")\n",
    "print(\"Please select which algorithm you wish to run (enter 1 or 2).\")\n",
    "print(\"1. Bellman-Ford algorithm\")\n",
    "print(\"2. Dijkstra's algorithm\")\n",
    "option = input()\n",
    "\n",
    "# Find the closest street to the input coordinates and use that as the destination\n",
    "try:\n",
    "  # References https://stackoverflow.com/questions/70626218/how-to-find-the-nearest-linestring-to-a-point\n",
    "  fire_point = gpd.GeoDataFrame(geometry=[shapely.wkt.loads(f\"POINT ({fire_lon} {fire_lat})\")]).set_crs('EPSG:4326').to_crs('EPSG:3857')\n",
    "  distance = gpd.sjoin_nearest(fire_point, roads).merge(roads, left_on='index_right', right_index=True)\n",
    "  distance['distance'] = distance.apply(lambda row: row['geometry_x'].distance(row['geometry_y']), axis=1)\n",
    "  closest_node_X = distance.iloc[0]['StartX_y']\n",
    "  closest_node_Y = distance.iloc[0]['StartY_y']\n",
    "  print(\"We have identified the location. BlazeNav is now searching for the fastest route from the Gainesville Fire Station #1 to the road nearest to the fire you inputted.\")\n",
    "except:\n",
    "  print(\"Coordinates not found in or near Alachua County. Please enter new coordinates.\")\n",
    "  fire_lat = input()\n",
    "  fire_lon = input()"
   ]
  },
  {
   "cell_type": "code",
   "execution_count": 14,
   "id": "ad85cecb-b446-45d6-aed2-3d9db26d84c5",
   "metadata": {},
   "outputs": [],
   "source": [
    "fire_lonlat = (fire_lon, fire_lat)"
   ]
  },
  {
   "cell_type": "code",
   "execution_count": 15,
   "id": "4ccdcab0-f67e-423a-923a-af269cc44a3c",
   "metadata": {},
   "outputs": [],
   "source": [
    "if option == 1:\n",
    "    result = bellmanford(G)\n",
    "    # findpath(fire_lonlat, result)"
   ]
  },
  {
   "cell_type": "code",
   "execution_count": 17,
   "id": "0c8de9cf-f5de-4e94-9c62-eada888f683a",
   "metadata": {},
   "outputs": [],
   "source": [
    "if option == 2:\n",
    "    result = dijkstra(G)\n",
    "    # findpath(fire_lonlat, result)"
   ]
  },
  {
   "cell_type": "code",
   "execution_count": null,
   "id": "ee2ee24b-0d37-4e05-a0ed-9c5f21ac8777",
   "metadata": {},
   "outputs": [],
   "source": []
  }
 ],
 "metadata": {
  "kernelspec": {
   "display_name": "Python 3 (ipykernel)",
   "language": "python",
   "name": "python3"
  },
  "language_info": {
   "codemirror_mode": {
    "name": "ipython",
    "version": 3
   },
   "file_extension": ".py",
   "mimetype": "text/x-python",
   "name": "python",
   "nbconvert_exporter": "python",
   "pygments_lexer": "ipython3",
   "version": "3.12.7"
  }
 },
 "nbformat": 4,
 "nbformat_minor": 5
}
