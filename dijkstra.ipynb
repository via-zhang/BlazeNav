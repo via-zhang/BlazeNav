{
 "cells": [
  {
   "cell_type": "code",
   "execution_count": 1,
   "id": "3048e088-bc01-40a5-9837-6b9901cdc3fa",
   "metadata": {
    "scrolled": true
   },
   "outputs": [
    {
     "name": "stdout",
     "output_type": "stream",
     "text": [
      "Requirement already satisfied: geopandas in c:\\users\\home\\anaconda3\\lib\\site-packages (1.0.1)\n",
      "Requirement already satisfied: numpy>=1.22 in c:\\users\\home\\anaconda3\\lib\\site-packages (from geopandas) (1.26.4)\n",
      "Requirement already satisfied: pyogrio>=0.7.2 in c:\\users\\home\\anaconda3\\lib\\site-packages (from geopandas) (0.10.0)\n",
      "Requirement already satisfied: packaging in c:\\users\\home\\anaconda3\\lib\\site-packages (from geopandas) (24.1)\n",
      "Requirement already satisfied: pandas>=1.4.0 in c:\\users\\home\\anaconda3\\lib\\site-packages (from geopandas) (2.2.2)\n",
      "Requirement already satisfied: pyproj>=3.3.0 in c:\\users\\home\\anaconda3\\lib\\site-packages (from geopandas) (3.7.1)\n",
      "Requirement already satisfied: shapely>=2.0.0 in c:\\users\\home\\anaconda3\\lib\\site-packages (from geopandas) (2.1.0)\n",
      "Requirement already satisfied: python-dateutil>=2.8.2 in c:\\users\\home\\anaconda3\\lib\\site-packages (from pandas>=1.4.0->geopandas) (2.9.0.post0)\n",
      "Requirement already satisfied: pytz>=2020.1 in c:\\users\\home\\anaconda3\\lib\\site-packages (from pandas>=1.4.0->geopandas) (2024.1)\n",
      "Requirement already satisfied: tzdata>=2022.7 in c:\\users\\home\\anaconda3\\lib\\site-packages (from pandas>=1.4.0->geopandas) (2023.3)\n",
      "Requirement already satisfied: certifi in c:\\users\\home\\anaconda3\\lib\\site-packages (from pyogrio>=0.7.2->geopandas) (2024.8.30)\n",
      "Requirement already satisfied: six>=1.5 in c:\\users\\home\\anaconda3\\lib\\site-packages (from python-dateutil>=2.8.2->pandas>=1.4.0->geopandas) (1.16.0)\n",
      "Note: you may need to restart the kernel to use updated packages.\n"
     ]
    }
   ],
   "source": [
    "pip install geopandas"
   ]
  },
  {
   "cell_type": "code",
   "execution_count": 5,
   "id": "c71a931e-1d79-4170-8c6a-02843e2d4bb0",
   "metadata": {},
   "outputs": [
    {
     "name": "stdout",
     "output_type": "stream",
     "text": [
      "Requirement already satisfied: momepy in c:\\users\\home\\anaconda3\\lib\\site-packages (0.10.0)\n",
      "Requirement already satisfied: geopandas>=0.14.0 in c:\\users\\home\\anaconda3\\lib\\site-packages (from momepy) (1.0.1)\n",
      "Requirement already satisfied: libpysal>=4.12.0 in c:\\users\\home\\anaconda3\\lib\\site-packages (from momepy) (4.13.0)\n",
      "Requirement already satisfied: networkx>=3.2 in c:\\users\\home\\anaconda3\\lib\\site-packages (from momepy) (3.3)\n",
      "Requirement already satisfied: packaging in c:\\users\\home\\anaconda3\\lib\\site-packages (from momepy) (24.1)\n",
      "Requirement already satisfied: pandas>=2.0 in c:\\users\\home\\anaconda3\\lib\\site-packages (from momepy) (2.2.2)\n",
      "Requirement already satisfied: shapely>=2 in c:\\users\\home\\anaconda3\\lib\\site-packages (from momepy) (2.1.0)\n",
      "Requirement already satisfied: tqdm>=4.65 in c:\\users\\home\\anaconda3\\lib\\site-packages (from momepy) (4.66.5)\n",
      "Requirement already satisfied: numpy>=1.22 in c:\\users\\home\\anaconda3\\lib\\site-packages (from geopandas>=0.14.0->momepy) (1.26.4)\n",
      "Requirement already satisfied: pyogrio>=0.7.2 in c:\\users\\home\\anaconda3\\lib\\site-packages (from geopandas>=0.14.0->momepy) (0.10.0)\n",
      "Requirement already satisfied: pyproj>=3.3.0 in c:\\users\\home\\anaconda3\\lib\\site-packages (from geopandas>=0.14.0->momepy) (3.7.1)\n",
      "Requirement already satisfied: beautifulsoup4>=4.10 in c:\\users\\home\\anaconda3\\lib\\site-packages (from libpysal>=4.12.0->momepy) (4.12.3)\n",
      "Requirement already satisfied: platformdirs>=2.0.2 in c:\\users\\home\\anaconda3\\lib\\site-packages (from libpysal>=4.12.0->momepy) (3.10.0)\n",
      "Requirement already satisfied: requests>=2.27 in c:\\users\\home\\anaconda3\\lib\\site-packages (from libpysal>=4.12.0->momepy) (2.32.3)\n",
      "Requirement already satisfied: scipy>=1.8 in c:\\users\\home\\anaconda3\\lib\\site-packages (from libpysal>=4.12.0->momepy) (1.13.1)\n",
      "Requirement already satisfied: scikit-learn>=1.1 in c:\\users\\home\\anaconda3\\lib\\site-packages (from libpysal>=4.12.0->momepy) (1.5.1)\n",
      "Requirement already satisfied: python-dateutil>=2.8.2 in c:\\users\\home\\anaconda3\\lib\\site-packages (from pandas>=2.0->momepy) (2.9.0.post0)\n",
      "Requirement already satisfied: pytz>=2020.1 in c:\\users\\home\\anaconda3\\lib\\site-packages (from pandas>=2.0->momepy) (2024.1)\n",
      "Requirement already satisfied: tzdata>=2022.7 in c:\\users\\home\\anaconda3\\lib\\site-packages (from pandas>=2.0->momepy) (2023.3)\n",
      "Requirement already satisfied: colorama in c:\\users\\home\\anaconda3\\lib\\site-packages (from tqdm>=4.65->momepy) (0.4.6)\n",
      "Requirement already satisfied: soupsieve>1.2 in c:\\users\\home\\anaconda3\\lib\\site-packages (from beautifulsoup4>=4.10->libpysal>=4.12.0->momepy) (2.5)\n",
      "Requirement already satisfied: certifi in c:\\users\\home\\anaconda3\\lib\\site-packages (from pyogrio>=0.7.2->geopandas>=0.14.0->momepy) (2024.8.30)\n",
      "Requirement already satisfied: six>=1.5 in c:\\users\\home\\anaconda3\\lib\\site-packages (from python-dateutil>=2.8.2->pandas>=2.0->momepy) (1.16.0)\n",
      "Requirement already satisfied: charset-normalizer<4,>=2 in c:\\users\\home\\anaconda3\\lib\\site-packages (from requests>=2.27->libpysal>=4.12.0->momepy) (3.3.2)\n",
      "Requirement already satisfied: idna<4,>=2.5 in c:\\users\\home\\anaconda3\\lib\\site-packages (from requests>=2.27->libpysal>=4.12.0->momepy) (3.7)\n",
      "Requirement already satisfied: urllib3<3,>=1.21.1 in c:\\users\\home\\anaconda3\\lib\\site-packages (from requests>=2.27->libpysal>=4.12.0->momepy) (2.2.3)\n",
      "Requirement already satisfied: joblib>=1.2.0 in c:\\users\\home\\anaconda3\\lib\\site-packages (from scikit-learn>=1.1->libpysal>=4.12.0->momepy) (1.4.2)\n",
      "Requirement already satisfied: threadpoolctl>=3.1.0 in c:\\users\\home\\anaconda3\\lib\\site-packages (from scikit-learn>=1.1->libpysal>=4.12.0->momepy) (3.5.0)\n",
      "Note: you may need to restart the kernel to use updated packages.\n"
     ]
    }
   ],
   "source": [
    "pip install momepy"
   ]
  },
  {
   "cell_type": "code",
   "execution_count": 6,
   "id": "0c5d74fb-fc8d-40d7-b39b-26745c18ad84",
   "metadata": {},
   "outputs": [],
   "source": [
    "import geopandas as gpd\n",
    "import networkx as nx\n",
    "import numpy as np\n",
    "import heapq\n",
    "import momepy"
   ]
  },
  {
   "cell_type": "code",
   "execution_count": 7,
   "id": "a67336e4-4521-4646-8d69-725d5b117ae6",
   "metadata": {},
   "outputs": [],
   "source": [
    "roads = gpd.read_file('road_vertices_3857_subset.zip')[['LengthM', 'geometry', 'FULLNAME']]\n",
    "G = momepy.gdf_to_nx(roads, approach=\"primal\", length=\"LengthM\")\n",
    "nx.set_node_attributes(G, np.inf, \"dist\")\n",
    "nx.set_node_attributes(G, None, \"pred\")"
   ]
  },
  {
   "cell_type": "code",
   "execution_count": 19,
   "id": "67ceb498-aa9f-4e85-8d6a-ba165c1a2aaf",
   "metadata": {},
   "outputs": [],
   "source": [
    "def Dijkstra(Graph, start=963):\n",
    "    # Initialize everything\n",
    "    # Start is the index of Gainesville's Fire Station\n",
    "    list(Graph.nodes(data=True))[start][1]['dist'] = 0\n",
    "    # Initialize priority queue\n",
    "    pq = [(0, list(Graph.nodes)[start])]\n",
    "    visitedNodes = set()\n",
    "\n",
    "    while pq:\n",
    "        current_distance, current = heapq.heappop(pq)\n",
    "        if current in visitedNodes:\n",
    "            continue\n",
    "        visitedNodes.add(current)\n",
    "        currentNeighbors = Graph.__getitem__(current)\n",
    "        for neighboringNodes in currentNeighbors:\n",
    "            weight = currentNeighbors[neighboringNodes][0]['LengthM']\n",
    "            distance = current_distance + weight\n",
    "\n",
    "            # If distance is less than the current distance, update\n",
    "            if distance < Graph.nodes[neighboringNodes]['dist']:\n",
    "                Graph.nodes[neighboringNodes]['dist'] = distance\n",
    "                Graph.nodes[neighboringNodes]['pred'] = current\n",
    "                heapq.heappush(pq, (distance, neighboringNodes))\n",
    "    return Graph"
   ]
  },
  {
   "cell_type": "code",
   "execution_count": 20,
   "id": "e59cc4cd-2f4c-4104-9168-d43a3f693b08",
   "metadata": {},
   "outputs": [],
   "source": [
    "result = Dijkstra(G)"
   ]
  },
  {
   "cell_type": "code",
   "execution_count": 21,
   "id": "f9a4e9f0-64b6-4dcf-9b44-55859cc6d195",
   "metadata": {},
   "outputs": [],
   "source": [
    "test = list(G.nodes)[0]"
   ]
  },
  {
   "cell_type": "code",
   "execution_count": 22,
   "id": "ab878efb-1a10-4ae1-9ca0-7ac881c50e6d",
   "metadata": {},
   "outputs": [
    {
     "data": {
      "text/plain": [
       "{'x': -9167850.518576277,\n",
       " 'y': 3465923.7308090404,\n",
       " 'dist': 10591.119950852222,\n",
       " 'pred': (-9167834.488565419, 3465937.8288347237)}"
      ]
     },
     "execution_count": 22,
     "metadata": {},
     "output_type": "execute_result"
    }
   ],
   "source": [
    "G.nodes[test]"
   ]
  }
 ],
 "metadata": {
  "kernelspec": {
   "display_name": "Python 3 (ipykernel)",
   "language": "python",
   "name": "python3"
  },
  "language_info": {
   "codemirror_mode": {
    "name": "ipython",
    "version": 3
   },
   "file_extension": ".py",
   "mimetype": "text/x-python",
   "name": "python",
   "nbconvert_exporter": "python",
   "pygments_lexer": "ipython3",
   "version": "3.12.7"
  }
 },
 "nbformat": 4,
 "nbformat_minor": 5
}
